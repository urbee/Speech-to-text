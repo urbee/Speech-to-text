{
 "cells": [
  {
   "cell_type": "code",
   "execution_count": 132,
   "metadata": {},
   "outputs": [],
   "source": [
    "filepath = \"e:/#MyStuff#/YogaNidra/\"  #Input audio file path\n",
    "output_filepath = \"e:/#MyStuff#/YogaNidra/Transcripts/\" #Final transcript path\n",
    "bucketname = \"audiofiles123456\" #Name of the bucket created in the step before\n",
    "\n",
    "# Import libraries\n",
    "from pydub import AudioSegment\n",
    "AudioSegment.converter = \"E:/ffmpeg/bin\"\n",
    "AudioSegment.ffmpeg = \"E:/ffmpeg/bin\"\n",
    "import io\n",
    "import os\n",
    "from google.cloud import speech\n",
    "from google.cloud.speech import enums\n",
    "from google.cloud.speech import types\n",
    "import wave\n",
    "from google.cloud import storage"
   ]
  },
  {
   "cell_type": "code",
   "execution_count": 133,
   "metadata": {},
   "outputs": [],
   "source": [
    "def mp3_to_wav(audio_file_name):\n",
    "    if audio_file_name.split('.')[-1] == 'mp3': \n",
    "        print(audio_file_name + '   It\\'s mp3')       \n",
    "        subprocess.call(['ffmpeg', '-i', audio_file_name.split('.')[0] + '.mp3',\n",
    "                   audio_file_name.split('.')[0] + '.wav'])"
   ]
  },
  {
   "cell_type": "code",
   "execution_count": 134,
   "metadata": {},
   "outputs": [],
   "source": [
    "def stereo_to_mono(audio_file_name):\n",
    "    sound = AudioSegment.from_wav(audio_file_name)\n",
    "    sound = sound.set_channels(1)\n",
    "    sound.export(audio_file_name, format=\"wav\")"
   ]
  },
  {
   "cell_type": "code",
   "execution_count": 135,
   "metadata": {},
   "outputs": [],
   "source": [
    "def frame_rate_channel(audio_file_name):\n",
    "    with wave.open(audio_file_name, \"rb\") as wave_file:\n",
    "        frame_rate = wave_file.getframerate()\n",
    "        channels = wave_file.getnchannels()\n",
    "        return frame_rate,channels"
   ]
  },
  {
   "cell_type": "code",
   "execution_count": 136,
   "metadata": {},
   "outputs": [],
   "source": [
    "def upload_blob(bucket_name, source_file_name, destination_blob_name):\n",
    "    \"\"\"Uploads a file to the bucket.\"\"\"\n",
    "    storage_client = storage.Client()\n",
    "    bucket = storage_client.get_bucket(bucket_name)\n",
    "    blob = bucket.blob(destination_blob_name)\n",
    "\n",
    "    blob.upload_from_filename(source_file_name)"
   ]
  },
  {
   "cell_type": "code",
   "execution_count": 137,
   "metadata": {},
   "outputs": [],
   "source": [
    "def delete_blob(bucket_name, blob_name):\n",
    "    \"\"\"Deletes a blob from the bucket.\"\"\"\n",
    "    storage_client = storage.Client()\n",
    "    bucket = storage_client.get_bucket(bucket_name)\n",
    "    blob = bucket.blob(blob_name)\n",
    "\n",
    "    blob.delete()"
   ]
  },
  {
   "cell_type": "code",
   "execution_count": 138,
   "metadata": {},
   "outputs": [],
   "source": [
    "def google_transcribe(audio_file_name):\n",
    "    \n",
    "    file_name = filepath + audio_file_name\n",
    "    mp3_to_wav(file_name)\n",
    "    print('   mp3_to_wav end')\n",
    "    wav_file_name = file_name.split('.')[0] + '.wav'\n",
    "\n",
    "    # The name of the audio file to transcribe\n",
    "    frame_rate, channels = frame_rate_channel(wav_file_name)\n",
    "    \n",
    "    if channels > 1:\n",
    "       stereo_to_mono(wav_file_name)\n",
    "    \n",
    "    bucket_name = bucketname\n",
    "    #source_file_name = filepath + wav_file_name\n",
    "    destination_blob_name = wav_file_name\n",
    "    \n",
    "    upload_blob(bucket_name, wav_file_name, destination_blob_name)\n",
    "    print('   wav is uploaded')\n",
    "    \n",
    "    gcs_uri = 'gs://' + bucketname + '/' + wav_file_name\n",
    "    transcript = ''\n",
    "    \n",
    "    client = speech.SpeechClient()\n",
    "    audio = types.RecognitionAudio(uri=gcs_uri)\n",
    "\n",
    "    config = types.RecognitionConfig(\n",
    "    encoding=enums.RecognitionConfig.AudioEncoding.LINEAR16,\n",
    "    sample_rate_hertz=frame_rate,\n",
    "    language_code='hu-HU')\n",
    "\n",
    "    # Detects speech in the audio file\n",
    "    print('   speech-to-text generation is started')\n",
    "    operation = client.long_running_recognize(config, audio)\n",
    "    response = operation.result(timeout=10000)\n",
    "    print('   speech-to-text generation has finished')\n",
    "\n",
    "    for result in response.results:\n",
    "        transcript += result.alternatives[0].transcript\n",
    "    \n",
    "    delete_blob(bucket_name, destination_blob_name)\n",
    "    print('   temporary files are deleted')\n",
    "    return transcript"
   ]
  },
  {
   "cell_type": "code",
   "execution_count": 142,
   "metadata": {},
   "outputs": [],
   "source": [
    "def write_transcripts(transcript_filename,transcript):\n",
    "    f= open(output_filepath + transcript_filename,\"w+\",encoding=\"utf-8\")\n",
    "    f.write(transcript)\n",
    "    f.close()\n",
    "    print('   text printed into file')"
   ]
  },
  {
   "cell_type": "code",
   "execution_count": 149,
   "metadata": {},
   "outputs": [
    {
     "name": "stdout",
     "output_type": "stream",
     "text": [
      "200204-yoga-nidra-7-alkalom-1-gyakorlat.mp3\n",
      "e:/#MyStuff#/YogaNidra/200204-yoga-nidra-7-alkalom-1-gyakorlat.mp3   It's mp3\n",
      "   mp3_to_wav end\n",
      "   wav is uploaded\n",
      "   speech-to-text generation is started\n",
      "   speech-to-text generation has finished\n",
      "   temporary files are deleted\n",
      "   text printed into file\n",
      "200204-yoga-nidra-7-alkalom-2-gyakorlat.mp3\n",
      "e:/#MyStuff#/YogaNidra/200204-yoga-nidra-7-alkalom-2-gyakorlat.mp3   It's mp3\n",
      "   mp3_to_wav end\n",
      "   wav is uploaded\n",
      "   speech-to-text generation is started\n",
      "   speech-to-text generation has finished\n",
      "   temporary files are deleted\n",
      "   text printed into file\n",
      "200303-yoga-nidra-8-alkalom-1_gyakorlat.mp3\n",
      "e:/#MyStuff#/YogaNidra/200303-yoga-nidra-8-alkalom-1_gyakorlat.mp3   It's mp3\n",
      "   mp3_to_wav end\n",
      "   wav is uploaded\n",
      "   speech-to-text generation is started\n",
      "   speech-to-text generation has finished\n",
      "   temporary files are deleted\n",
      "   text printed into file\n",
      "200303-yoga-nidra-8-alkalom-2_gyakorlat.mp3\n",
      "e:/#MyStuff#/YogaNidra/200303-yoga-nidra-8-alkalom-2_gyakorlat.mp3   It's mp3\n",
      "   mp3_to_wav end\n",
      "   wav is uploaded\n",
      "   speech-to-text generation is started\n",
      "   speech-to-text generation has finished\n",
      "   temporary files are deleted\n",
      "   text printed into file\n",
      "200407-yoga-nidra-9-alkalom-1_gyakorlat.mp3\n",
      "e:/#MyStuff#/YogaNidra/200407-yoga-nidra-9-alkalom-1_gyakorlat.mp3   It's mp3\n",
      "   mp3_to_wav end\n",
      "   wav is uploaded\n",
      "   speech-to-text generation is started\n",
      "   speech-to-text generation has finished\n",
      "   temporary files are deleted\n",
      "   text printed into file\n",
      "200415-yoga-nidra-10-alkalom-1-gyakorlat.mp3\n",
      "e:/#MyStuff#/YogaNidra/200415-yoga-nidra-10-alkalom-1-gyakorlat.mp3   It's mp3\n",
      "   mp3_to_wav end\n",
      "   wav is uploaded\n",
      "   speech-to-text generation is started\n",
      "   speech-to-text generation has finished\n",
      "   temporary files are deleted\n",
      "   text printed into file\n",
      "200415-yoga-nidra-10-alkalom-2-gyakorlat.mp3\n",
      "e:/#MyStuff#/YogaNidra/200415-yoga-nidra-10-alkalom-2-gyakorlat.mp3   It's mp3\n",
      "   mp3_to_wav end\n",
      "   wav is uploaded\n",
      "   speech-to-text generation is started\n",
      "   speech-to-text generation has finished\n",
      "   temporary files are deleted\n",
      "   text printed into file\n"
     ]
    }
   ],
   "source": [
    "os.environ[\"GOOGLE_APPLICATION_CREDENTIALS\"] = \"E:\\#MyProjects#\\API-key\\speechtotext-278012-1df3445de29b.json\"\n",
    "\n",
    "#to_be_processed = os.listdir(filepath)\n",
    "to_be_processed = ['200204-yoga-nidra-7-alkalom-1-gyakorlat.mp3',\n",
    " '200204-yoga-nidra-7-alkalom-2-gyakorlat.mp3',\n",
    " '200303-yoga-nidra-8-alkalom-1_gyakorlat.mp3',\n",
    " '200303-yoga-nidra-8-alkalom-2_gyakorlat.mp3',\n",
    " '200407-yoga-nidra-9-alkalom-1_gyakorlat.mp3',\n",
    " '200415-yoga-nidra-10-alkalom-1-gyakorlat.mp3',\n",
    " '200415-yoga-nidra-10-alkalom-2-gyakorlat.mp3'\n",
    " ]\n",
    "\n",
    "if __name__ == \"__main__\":\n",
    "    \n",
    "    for audio_file_name in to_be_processed:\n",
    "        #audio_file_name = '200303-yoga-nidra-8-alkalom-1_gyakorlat.mp3'\n",
    "        print(audio_file_name)\n",
    "        \n",
    "        transcript = google_transcribe(audio_file_name)\n",
    "        transcript_filename = audio_file_name.split('.')[0] + '.txt'\n",
    "        write_transcripts(transcript_filename,transcript)"
   ]
  },
  {
   "cell_type": "code",
   "execution_count": 144,
   "metadata": {},
   "outputs": [
    {
     "data": {
      "text/plain": [
       "'A talpáról még nem beszéltem Illetve nagyon sok mindenről Lebeszéltem tehát általában egy elhatározást szoktunk a gyakorlás előtt csinálni ezt a jógában szanka apának hívjuk most a szanka apánk a következő lesz most én csak elmondom jóga nidrá itt gyakorol Ok éber tudatos mozdulatlan maradok ha van olyan akinek van saját szaggal pálya ki lehet vele egészíteni tehát most Keresd meg a helyedet És várjál mozdulatlanná magadba háromszor Ismételd el a San Kárpát jóga nitrát gyakorol Ok éber tudatos mozdulatlan maradok pizza figyelmedet a homlokodra lazítsd el hozd ki belőle a feszültséget simítsd ki a homlok adat siminszky a homlok ráncokat és az elme ráncait lazítsd a jobb szemöldököt és lazítsd apa lazítsd a jobb felső alsó szemhéjat lazítsd a bal felső alsó szemhéj lazítsd A jobb szemgolyót és a számokat lazítsd a bal szemgolyót és a szemizmok lazítsd az óra lazítsd a jobb orcád Fradista pap lazítsd a felső ajkat bázist az ásót lazítsd a jobb szájukat fazist apa most a tudatosságot de lép a szájüregben tudatosítsd felső fogsort fogat fog itt alsó fogsor fogai lazítsd a nyelvet és a nyelv csók lazítsd A jobboldali rágóizmok és láz és nappal és mindkét rágóizmok laz is tovább lazítsd a fejtetűt jobb halánték azért a bal halántékom lazítsd a parkot lazítsd a jobb fület spanish tapas az egész fejet az is tovább lazítsd A nyak hátulsó részét a nyak jobb oldalát A nyak bal oldala lazítsd a nyak elülső részét és a gége az egész nyakadat lazítsd egyszer lazítsd a jobb vállövet a jobb vállat Jobb holnap jobb felkar A jobb könyököd könyökhajlat jobb alkar plazi csuklott lazítsd A kézfejet kenyeret lazítsd A hüvelykujját mutatott középső ujjat az is vaszistha gyűrűsujj azért a kisujját mind az öt ujjat egyszer el az is tovább újszülöttek új hegyek lazulnak lazul a bal vállad bal váll bal hónalj lazúr lazul a bal felkar lazul a könyök és a könyökhajlat lazul az alkar csukló lazul a kézfej tenyér lazul A bal hüvelykujj mutatóujj lazul A középső ujj gyűrűs lazula kisúj mind az öt kézujj tovább újszülöttek új hegyek lazulnak lazul a jobb lapocka lazul apa a Hát jobb oldala és a hátfal oldalon a szoba az egész Hát továbbra szól lazul a jobb fenék spatulából mindkét fenék továbbra szó lazul A jobb kulcscsont és a bal kurst mellkas jobb oldala lazúr és a mellkas bal oldala szúr egész mellkas továbbra lazul a Köldök az egész has lazul az alhas szeméremcsont lazul lazula kát lazulnak a nemi szervek az egész medence lazul a jobb csípő csípőizület lazul A jobb comb térdhajlat térdkalács lazúr lazul a lábszár lazul A vádli lazul a boka sarok talp lazul a lábfej lazul a jobb nagylábujj 2 új lazul a középső ujj 4 új lazul lazula kisúj mind az öt lábujj tovább lazul lábujj ízületek lábujj hegyek lazulnak lazul a bal csípő csípőizület lazul A bal comb térd térdhajlat térdkalács lazok Vazul a lábszár és a vádli lazula pokka sarok lazul A talp lazul a lábfej lazul A bal nagylábujj 2 új lazul a középső 4 új lazúr azula kisúj mind az öt lábujj tovább lazul lábujj ízületek lábujj egyek lazul most Vidd fel a figyelmedet a két szemöldök közé az anyja csakrához képzeljétek teliholdat telihold ezüstös fénye beragyogja az arcodat Ragyog a telihold a torokcsakra ba is a Wish oda csak Rába Ragyog a telihold az anahata csak Rába szívcsakrája Ragyog a telihold a manipura csakra a köldökcsakra Ragyog a telihold a gáton a manipura csakra gyökércsakra és az ezüstös Holdfény balról jobbra körbevesz egy Holdfény mandalát képez körülötted teljes biztonságban vagy most mit a figyelmedet újra az anyja csakrához a szemöldök közé mondok mantrát csak figyeld hagyd hogy hasson rád wakanda mandalak áram miattam én a család saram tapadasi Tomi én azt ma is figura V namaha Most vitte figyelmedet havi suta csakrához itt lyuk tálcát a dalt Évi garantált sogou durvább adriai tantargyat éjszakát az anahata csakrához a szív csakrához vitt a figyelmedet asatoma sadgamaya Zsoltika Maja mikor már Amerika om Shanti Shanti Shanti a manipura csakra az a Köldök csakrához vitt a figyelmedet om bhur bhuva swaha takarító rényi embargó téveszti a díj mahi dió jó napra csodáját amulat ára csakrához vitt figyelmedet a gyökér csakrához om tryambakam yajamahe húgaim pusti vardan úr vár ucca mivel panda nike.air.max Ja már említett most újra a szív csakrára a zamata csakrára figyelj és lélegezz él a szívcsakra keresztül belégzés hez kapcsold a szó aki légzéshez a hangja mantrát szó ha szó ha szó ha áramlik a légzés a szív csak rá keresztül szól a picsam entre szó ha és most engedd el a pizsamát engedd el a légzés figyelést és engedd bele magad a szívcsakra csendjében három úgy együtt a csenddel merőben és most lassan tudatosítsd újra a légzés etet óvatosan mozgást a kéz és lábujjakat az alkar lábszár felkar szombat direkt ESD meg a fejedet És ha a test tudatosságot visszatért akkor Fordulj át a bal oldaladra Nyújtsd ki a bal kezedet a fejed fölé ha elfértek egymástól Úgyhogy ne akadályozzák egymást Jobb kezedet tedd a testedre Húzd föl egy egész kicsit a térdedet hogy stabil legyen az oldalfekvés és mély rekeszizom légzés Ettől te kezdő töltsd fel magad napenergiával a jobbulás lesz az aktív törteket most Őrizd meg a nyugalmad at és ülj föl keresztezett lábú ülésbe felfele fordított tenyérrel az adás mudrá jával ajánljuk fel mindazt amit fejlődtünk gyarapodjunk és tanultunk az érző lények meg de Küldheted konkrét személynek is Börzsöny kocka bennünket tenyerünk melegítjük a szemünkre arcunkra hari om Tat ha van kérdés Akkor lehet kérdezni Elnézést a fényért megtudjuk azt csinálni szét küldjük a szöveget ugye felé tehát Rövidesen megkapjátok ezt a 28 perces gyakorlást és akkor lehetne gyakorolni próbáljátok ugyanabban az időben De hát persze ezt nem kell mereven kezelni és várjuk a kérdéseket Legközelebb ha van kérdésed tedd ide ki és akkor folytatjuk föl lehet tenni a kérdést a weblapon is ma is csináltunk egy válaszolás tehát Ott is lehet kérdezni'"
      ]
     },
     "execution_count": 144,
     "metadata": {},
     "output_type": "execute_result"
    }
   ],
   "source": [
    "transcript"
   ]
  },
  {
   "cell_type": "code",
   "execution_count": 128,
   "metadata": {},
   "outputs": [
    {
     "name": "stdout",
     "output_type": "stream",
     "text": [
      "200303-yoga-nidra-8-alkalom-1_gyakorlat.txt\n"
     ]
    }
   ],
   "source": [
    "transcript_filename = audio_file_name.split('.')[0] + '.txt'\n",
    "write_transcripts(transcript_filename,transcript)"
   ]
  },
  {
   "cell_type": "code",
   "execution_count": 147,
   "metadata": {},
   "outputs": [
    {
     "data": {
      "text/plain": [
       "['190507-yoga-nidra-1-gyakorlat.mp3',\n",
       " '190507-yoga-nidra-1-gyakorlat.wav',\n",
       " '190507-yoga-nidra-2-gyakorlat noise reduced.mp3',\n",
       " '190507-yoga-nidra-2-gyakorlat noise reduced.wav',\n",
       " '190507-yoga-nidra-2-gyakorlat.mp3',\n",
       " '190507-yoga-nidra-2-gyakorlat.wav',\n",
       " '190604-yoga-nidra-2-alkalom-1-gyakorlat.mp3',\n",
       " '190604-yoga-nidra-2-alkalom-1-gyakorlat.wav',\n",
       " '190604-yoga-nidra-2-alkalom-2-gyakorlat.mp3',\n",
       " '190604-yoga-nidra-2-alkalom-2-gyakorlat.wav',\n",
       " '190702-yoga-nidra-3-alkalom-1-gyakorlat.mp3',\n",
       " '190702-yoga-nidra-3-alkalom-1-gyakorlat.wav',\n",
       " '190702-yoga-nidra-3-alkalom-2-gyakorlat.mp3',\n",
       " '190702-yoga-nidra-3-alkalom-2-gyakorlat.wav',\n",
       " '190903-yoga-nidra-4-alkalom-1-gyakorlat.mp3',\n",
       " '190903-yoga-nidra-4-alkalom-1-gyakorlat.wav',\n",
       " '190903-yoga-nidra-4-alkalom-2-gyakorlat.mp3',\n",
       " '190903-yoga-nidra-4-alkalom-2-gyakorlat.wav',\n",
       " '191001-yoga-nidra-5-alkalom-1-gyakorlat.mp3',\n",
       " '191001-yoga-nidra-5-alkalom-1-gyakorlat.wav',\n",
       " '200107-yoga-nidra-6-alkalom-1-gyakorlat.mp3',\n",
       " '200107-yoga-nidra-6-alkalom-1-gyakorlat.wav',\n",
       " '200204-yoga-nidra-7-alkalom-1-gyakorlat.mp3',\n",
       " '200204-yoga-nidra-7-alkalom-2-gyakorlat.mp3',\n",
       " '200303-yoga-nidra-8-alkalom-1_gyakorlat.mp3',\n",
       " '200303-yoga-nidra-8-alkalom-2_gyakorlat.mp3',\n",
       " '200407-yoga-nidra-9-alkalom-1_gyakorlat.mp3',\n",
       " '200415-yoga-nidra-10-alkalom-1-gyakorlat.mp3',\n",
       " '200415-yoga-nidra-10-alkalom-2-gyakorlat.mp3',\n",
       " 'Egyeb Yoga Nidra',\n",
       " 'Transcripts']"
      ]
     },
     "execution_count": 147,
     "metadata": {},
     "output_type": "execute_result"
    }
   ],
   "source": [
    "os.listdir(filepath)"
   ]
  }
 ],
 "metadata": {
  "kernelspec": {
   "display_name": "Python 3",
   "language": "python",
   "name": "python3"
  },
  "language_info": {
   "codemirror_mode": {
    "name": "ipython",
    "version": 3
   },
   "file_extension": ".py",
   "mimetype": "text/x-python",
   "name": "python",
   "nbconvert_exporter": "python",
   "pygments_lexer": "ipython3",
   "version": "3.7.3"
  }
 },
 "nbformat": 4,
 "nbformat_minor": 2
}
